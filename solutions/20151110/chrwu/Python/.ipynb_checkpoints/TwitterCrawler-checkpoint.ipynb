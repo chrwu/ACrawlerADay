{
 "cells": [
  {
   "cell_type": "code",
   "execution_count": 1,
   "metadata": {
    "collapsed": false
   },
   "outputs": [
    {
     "ename": "NoSectionError",
     "evalue": "No section: 'CONSUMER'",
     "output_type": "error",
     "traceback": [
      "\u001b[1;31m---------------------------------------------------------------------------\u001b[0m",
      "\u001b[1;31mNoSectionError\u001b[0m                            Traceback (most recent call last)",
      "\u001b[1;32m<ipython-input-1-d2449f11843b>\u001b[0m in \u001b[0;36m<module>\u001b[1;34m()\u001b[0m\n\u001b[0;32m     38\u001b[0m \u001b[1;33m\u001b[0m\u001b[0m\n\u001b[0;32m     39\u001b[0m \u001b[1;32mif\u001b[0m \u001b[0m__name__\u001b[0m \u001b[1;33m==\u001b[0m \u001b[1;34m\"__main__\"\u001b[0m\u001b[1;33m:\u001b[0m\u001b[1;33m\u001b[0m\u001b[0m\n\u001b[1;32m---> 40\u001b[1;33m     \u001b[0mset_config\u001b[0m\u001b[1;33m(\u001b[0m\u001b[1;33m)\u001b[0m\u001b[1;33m\u001b[0m\u001b[0m\n\u001b[0m\u001b[0;32m     41\u001b[0m     \u001b[0mtwitter_api\u001b[0m \u001b[1;33m=\u001b[0m \u001b[1;34m\"https://api.twitter.com/1.1/search/tweets.json\"\u001b[0m\u001b[1;33m\u001b[0m\u001b[0m\n\u001b[0;32m     42\u001b[0m     qs = {\"q\": \"%23WWEBattleground\",\n",
      "\u001b[1;32m<ipython-input-1-d2449f11843b>\u001b[0m in \u001b[0;36mset_config\u001b[1;34m()\u001b[0m\n\u001b[0;32m     12\u001b[0m     \u001b[0mconfig\u001b[0m\u001b[1;33m.\u001b[0m\u001b[0mread\u001b[0m\u001b[1;33m(\u001b[0m\u001b[1;34m'./key.cfg'\u001b[0m\u001b[1;33m)\u001b[0m\u001b[1;33m\u001b[0m\u001b[0m\n\u001b[0;32m     13\u001b[0m     \u001b[1;32mglobal\u001b[0m \u001b[0mCONSUMER_KEY\u001b[0m\u001b[1;33m,\u001b[0m \u001b[0mCONSUMER_SECRET\u001b[0m\u001b[1;33m,\u001b[0m \u001b[0mACCESS_TOKEN\u001b[0m\u001b[1;33m,\u001b[0m \u001b[0mACCESS_TOKEN_SECRET\u001b[0m\u001b[1;33m\u001b[0m\u001b[0m\n\u001b[1;32m---> 14\u001b[1;33m     \u001b[0mCONSUMER_KEY\u001b[0m \u001b[1;33m=\u001b[0m \u001b[0mconfig\u001b[0m\u001b[1;33m.\u001b[0m\u001b[0mget\u001b[0m\u001b[1;33m(\u001b[0m\u001b[1;34m'CONSUMER'\u001b[0m\u001b[1;33m,\u001b[0m \u001b[1;34m'KEY'\u001b[0m\u001b[1;33m)\u001b[0m\u001b[1;33m.\u001b[0m\u001b[0mstrip\u001b[0m\u001b[1;33m(\u001b[0m\u001b[1;34m'\"'\u001b[0m\u001b[1;33m)\u001b[0m\u001b[1;33m\u001b[0m\u001b[0m\n\u001b[0m\u001b[0;32m     15\u001b[0m     \u001b[0mCONSUMER_SECRET\u001b[0m \u001b[1;33m=\u001b[0m \u001b[0mconfig\u001b[0m\u001b[1;33m.\u001b[0m\u001b[0mget\u001b[0m\u001b[1;33m(\u001b[0m\u001b[1;34m'CONSUMER'\u001b[0m\u001b[1;33m,\u001b[0m \u001b[1;34m'SECRET'\u001b[0m\u001b[1;33m)\u001b[0m\u001b[1;33m.\u001b[0m\u001b[0mstrip\u001b[0m\u001b[1;33m(\u001b[0m\u001b[1;34m'\"'\u001b[0m\u001b[1;33m)\u001b[0m\u001b[1;33m\u001b[0m\u001b[0m\n\u001b[0;32m     16\u001b[0m     \u001b[0mACCESS_TOKEN\u001b[0m \u001b[1;33m=\u001b[0m \u001b[0mconfig\u001b[0m\u001b[1;33m.\u001b[0m\u001b[0mget\u001b[0m\u001b[1;33m(\u001b[0m\u001b[1;34m'ACCESS'\u001b[0m\u001b[1;33m,\u001b[0m \u001b[1;34m'TOKEN'\u001b[0m\u001b[1;33m)\u001b[0m\u001b[1;33m.\u001b[0m\u001b[0mstrip\u001b[0m\u001b[1;33m(\u001b[0m\u001b[1;34m'\"'\u001b[0m\u001b[1;33m)\u001b[0m\u001b[1;33m\u001b[0m\u001b[0m\n",
      "\u001b[1;32m/usr/lib/python2.7/ConfigParser.pyc\u001b[0m in \u001b[0;36mget\u001b[1;34m(self, section, option, raw, vars)\u001b[0m\n\u001b[0;32m    605\u001b[0m         \u001b[1;32mexcept\u001b[0m \u001b[0mKeyError\u001b[0m\u001b[1;33m:\u001b[0m\u001b[1;33m\u001b[0m\u001b[0m\n\u001b[0;32m    606\u001b[0m             \u001b[1;32mif\u001b[0m \u001b[0msection\u001b[0m \u001b[1;33m!=\u001b[0m \u001b[0mDEFAULTSECT\u001b[0m\u001b[1;33m:\u001b[0m\u001b[1;33m\u001b[0m\u001b[0m\n\u001b[1;32m--> 607\u001b[1;33m                 \u001b[1;32mraise\u001b[0m \u001b[0mNoSectionError\u001b[0m\u001b[1;33m(\u001b[0m\u001b[0msection\u001b[0m\u001b[1;33m)\u001b[0m\u001b[1;33m\u001b[0m\u001b[0m\n\u001b[0m\u001b[0;32m    608\u001b[0m         \u001b[1;31m# Update with the entry specific variables\u001b[0m\u001b[1;33m\u001b[0m\u001b[1;33m\u001b[0m\u001b[0m\n\u001b[0;32m    609\u001b[0m         \u001b[0mvardict\u001b[0m \u001b[1;33m=\u001b[0m \u001b[1;33m{\u001b[0m\u001b[1;33m}\u001b[0m\u001b[1;33m\u001b[0m\u001b[0m\n",
      "\u001b[1;31mNoSectionError\u001b[0m: No section: 'CONSUMER'"
     ]
    }
   ],
   "source": [
    "# -*- encoding: utf-8 -*-\n",
    "import ConfigParser\n",
    "import requests\n",
    "from requests_oauthlib import OAuth1\n",
    "import time \n",
    "import datetime\n",
    "import pandas as pd\n",
    "\n",
    "\n",
    "def set_config():\n",
    "    config = ConfigParser.ConfigParser()\n",
    "    config.read('./key.cfg')\n",
    "    global CONSUMER_KEY, CONSUMER_SECRET, ACCESS_TOKEN, ACCESS_TOKEN_SECRET\n",
    "    CONSUMER_KEY = config.get('CONSUMER', 'KEY').strip('\"')\n",
    "    CONSUMER_SECRET = config.get('CONSUMER', 'SECRET').strip('\"')\n",
    "    ACCESS_TOKEN = config.get('ACCESS', 'TOKEN').strip('\"')\n",
    "    ACCESS_TOKEN_SECRET = config.get('ACCESS', 'TOKEN_SECRET').strip('\"')\n",
    "    \n",
    "def get_oauth():\n",
    "    oauth = OAuth1(CONSUMER_KEY, \\\n",
    "                   client_secret=CONSUMER_SECRET, \\\n",
    "                   resource_owner_key=ACCESS_TOKEN, \\\n",
    "                   resource_owner_secret=ACCESS_TOKEN_SECRET)\n",
    "    return oauth\n",
    "\n",
    "def datetime_to_timestamp(raw_date):\n",
    "    dt = datetime.datetime.strptime(str(raw_date), \\\n",
    "                                    '%a %b %d %H:%M:%S +0000 %Y')\n",
    "    epoch = datetime.datetime.fromtimestamp(0)\n",
    "    ts = (dt-epoch).total_seconds()\n",
    "    return ts\n",
    "\n",
    "def get_tweets(raw_data):\n",
    "    tweets = pd.DataFrame()\n",
    "    tweets['username']  = map(lambda tweet: tweet['user']['name'], raw_data)\n",
    "    tweets['timestamp'] = map(datetime_to_timestamp, \\\n",
    "                              map(lambda tweet: tweet['created_at'], raw_data))\n",
    "    tweets['text']      = map(lambda tweet: tweet['text'], raw_data)\n",
    "    tweets['favorited'] = map(lambda tweet: tweet['favorited'], raw_data)\n",
    "    tweets['retweeted'] = map(lambda tweet: tweet['retweeted'], raw_data)\n",
    "    tweets['hashtag']   = map(lambda tweet: tweet['entities']['hashtags'], raw_data)\n",
    "    return tweets\n",
    "    \n",
    "if __name__ == \"__main__\":\n",
    "    set_config()    \n",
    "    twitter_api = \"https://api.twitter.com/1.1/search/tweets.json\"\n",
    "    qs = {\"q\": \"%23WWEBattleground\",\n",
    "          \"result_type\": \"mixed\",\n",
    "          \"count\": 100,\n",
    "          \"until\": \"2015-11-08\"\n",
    "         }\n",
    "    oauth = get_oauth()\n",
    "    r = requests.get(twitter_api, params=qs, auth=oauth)\n",
    "    data = r.json()\n",
    "    tweets = get_tweets(data['statuses'])\n",
    "    \n",
    "    print tweets\n",
    "    \n",
    "    "
   ]
  },
  {
   "cell_type": "raw",
   "metadata": {},
   "source": []
  },
  {
   "cell_type": "code",
   "execution_count": null,
   "metadata": {
    "collapsed": true
   },
   "outputs": [],
   "source": []
  }
 ],
 "metadata": {
  "kernelspec": {
   "display_name": "Python 2",
   "language": "python",
   "name": "python2"
  },
  "language_info": {
   "codemirror_mode": {
    "name": "ipython",
    "version": 2
   },
   "file_extension": ".py",
   "mimetype": "text/x-python",
   "name": "python",
   "nbconvert_exporter": "python",
   "pygments_lexer": "ipython2",
   "version": "2.7.9"
  }
 },
 "nbformat": 4,
 "nbformat_minor": 0
}
